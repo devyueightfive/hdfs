{
 "cells": [
  {
   "cell_type": "code",
   "execution_count": 2,
   "metadata": {
    "ExecuteTime": {
     "end_time": "2020-07-27T20:16:45.818733Z",
     "start_time": "2020-07-27T20:16:45.698975Z"
    }
   },
   "outputs": [
    {
     "name": "stdout",
     "output_type": "stream",
     "text": [
      "bash.txt  data_generator.ipynb\treader_max.ipynb  weather_data.csv\r\n",
      "data\t  RCFile.pdf\t\treader.sh\r\n"
     ]
    }
   ],
   "source": [
    "!ls"
   ]
  },
  {
   "cell_type": "markdown",
   "metadata": {},
   "source": [
    "sort data in the file"
   ]
  },
  {
   "cell_type": "code",
   "execution_count": 24,
   "metadata": {
    "ExecuteTime": {
     "end_time": "2020-07-27T20:23:01.014296Z",
     "start_time": "2020-07-27T20:23:00.895212Z"
    }
   },
   "outputs": [
    {
     "name": "stdout",
     "output_type": "stream",
     "text": [
      "77\r\n",
      "56\r\n",
      "56\r\n",
      "53\r\n",
      "51\r\n",
      "46\r\n",
      "36\r\n",
      "35\r\n",
      "32\r\n",
      "29\r\n"
     ]
    }
   ],
   "source": [
    "!sort -r -k1,1  -n \"data/file_0.txt\""
   ]
  },
  {
   "cell_type": "markdown",
   "metadata": {},
   "source": [
    "write outout to file"
   ]
  },
  {
   "cell_type": "code",
   "execution_count": 27,
   "metadata": {
    "ExecuteTime": {
     "end_time": "2020-07-27T20:24:55.914999Z",
     "start_time": "2020-07-27T20:24:55.794324Z"
    }
   },
   "outputs": [],
   "source": [
    "!ls data/* > files.txt"
   ]
  },
  {
   "cell_type": "markdown",
   "metadata": {},
   "source": [
    "awk genrates new column"
   ]
  },
  {
   "cell_type": "code",
   "execution_count": 25,
   "metadata": {
    "ExecuteTime": {
     "end_time": "2020-07-27T20:23:03.332883Z",
     "start_time": "2020-07-27T20:23:03.214779Z"
    }
   },
   "outputs": [
    {
     "name": "stdout",
     "output_type": "stream",
     "text": [
      "56s 560\r\n",
      "32s 320\r\n",
      "77s 770\r\n",
      "56s 560\r\n",
      "36s 360\r\n",
      "35s 350\r\n",
      "46s 460\r\n",
      "51s 510\r\n",
      "53s 530\r\n",
      "29s 290\r\n"
     ]
    }
   ],
   "source": [
    "!awk -F ' ' '{print $1\"s\", $1*10}' \"data/file_0.txt\""
   ]
  },
  {
   "cell_type": "markdown",
   "metadata": {},
   "source": [
    "max from first file"
   ]
  },
  {
   "cell_type": "code",
   "execution_count": 36,
   "metadata": {
    "ExecuteTime": {
     "end_time": "2020-07-27T21:00:36.972936Z",
     "start_time": "2020-07-27T21:00:36.847783Z"
    }
   },
   "outputs": [
    {
     "name": "stdout",
     "output_type": "stream",
     "text": [
      "77\r\n"
     ]
    }
   ],
   "source": [
    "!awk -F ' ' '{if ($1 > max) max = $1 } END {print max}' \"data/file_0.txt\""
   ]
  },
  {
   "cell_type": "markdown",
   "metadata": {},
   "source": [
    "max from files (after filter data and other..)"
   ]
  },
  {
   "cell_type": "code",
   "execution_count": 37,
   "metadata": {
    "ExecuteTime": {
     "end_time": "2020-07-27T21:02:47.175292Z",
     "start_time": "2020-07-27T21:02:46.697304Z"
    }
   },
   "outputs": [
    {
     "name": "stdout",
     "output_type": "stream",
     "text": [
      "100\r\n"
     ]
    }
   ],
   "source": [
    "!./reader.sh | cut -d \" \" -f4| awk '{if ($1 > max) max = $1 } END {print max}'"
   ]
  },
  {
   "cell_type": "code",
   "execution_count": null,
   "metadata": {},
   "outputs": [],
   "source": []
  }
 ],
 "metadata": {
  "kernelspec": {
   "display_name": "Python 3",
   "language": "python",
   "name": "python3"
  },
  "language_info": {
   "codemirror_mode": {
    "name": "ipython",
    "version": 3
   },
   "file_extension": ".py",
   "mimetype": "text/x-python",
   "name": "python",
   "nbconvert_exporter": "python",
   "pygments_lexer": "ipython3",
   "version": "3.7.7"
  },
  "toc": {
   "base_numbering": 1,
   "nav_menu": {},
   "number_sections": true,
   "sideBar": true,
   "skip_h1_title": false,
   "title_cell": "Table of Contents",
   "title_sidebar": "Contents",
   "toc_cell": false,
   "toc_position": {},
   "toc_section_display": true,
   "toc_window_display": false
  }
 },
 "nbformat": 4,
 "nbformat_minor": 4
}
