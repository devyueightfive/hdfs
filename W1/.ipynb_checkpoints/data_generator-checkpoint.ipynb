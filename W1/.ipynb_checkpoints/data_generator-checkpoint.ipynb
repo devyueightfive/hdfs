{
 "cells": [
  {
   "cell_type": "code",
   "execution_count": 1,
   "metadata": {
    "ExecuteTime": {
     "end_time": "2020-07-27T19:50:26.924886Z",
     "start_time": "2020-07-27T19:50:26.921202Z"
    }
   },
   "outputs": [],
   "source": [
    "import random"
   ]
  },
  {
   "cell_type": "code",
   "execution_count": 2,
   "metadata": {
    "ExecuteTime": {
     "end_time": "2020-07-27T19:50:45.966367Z",
     "start_time": "2020-07-27T19:50:45.953158Z"
    }
   },
   "outputs": [
    {
     "data": {
      "text/plain": [
       "40"
      ]
     },
     "execution_count": 2,
     "metadata": {},
     "output_type": "execute_result"
    }
   ],
   "source": [
    "random.randint(10,100)"
   ]
  },
  {
   "cell_type": "code",
   "execution_count": 6,
   "metadata": {
    "ExecuteTime": {
     "end_time": "2020-07-27T19:52:44.620202Z",
     "start_time": "2020-07-27T19:52:44.613361Z"
    }
   },
   "outputs": [],
   "source": [
    "d = []\n",
    "for i in range(100):\n",
    "    inner = []\n",
    "    for j in range(10):\n",
    "        inner.append(random.randint(10,100))\n",
    "    d.append(inner)"
   ]
  },
  {
   "cell_type": "code",
   "execution_count": 25,
   "metadata": {
    "ExecuteTime": {
     "end_time": "2020-07-27T20:00:06.673988Z",
     "start_time": "2020-07-27T20:00:06.658408Z"
    }
   },
   "outputs": [],
   "source": [
    "for i, data in enumerate(d):\n",
    "    with open(f\"file_{i}.txt\", mode=\"w\") as f:\n",
    "        f.write(\"\\n\".join(map(str,data)))\n"
   ]
  },
  {
   "cell_type": "code",
   "execution_count": null,
   "metadata": {},
   "outputs": [],
   "source": []
  }
 ],
 "metadata": {
  "kernelspec": {
   "display_name": "Python 3",
   "language": "python",
   "name": "python3"
  },
  "language_info": {
   "codemirror_mode": {
    "name": "ipython",
    "version": 3
   },
   "file_extension": ".py",
   "mimetype": "text/x-python",
   "name": "python",
   "nbconvert_exporter": "python",
   "pygments_lexer": "ipython3",
   "version": "3.7.7"
  },
  "toc": {
   "base_numbering": 1,
   "nav_menu": {},
   "number_sections": true,
   "sideBar": true,
   "skip_h1_title": false,
   "title_cell": "Table of Contents",
   "title_sidebar": "Contents",
   "toc_cell": false,
   "toc_position": {},
   "toc_section_display": true,
   "toc_window_display": false
  }
 },
 "nbformat": 4,
 "nbformat_minor": 4
}
